{
 "cells": [
  {
   "cell_type": "code",
   "execution_count": 1,
   "metadata": {},
   "outputs": [
    {
     "name": "stderr",
     "output_type": "stream",
     "text": [
      "/home/matheus/miniconda3/lib/python3.9/site-packages/tqdm/auto.py:22: TqdmWarning: IProgress not found. Please update jupyter and ipywidgets. See https://ipywidgets.readthedocs.io/en/stable/user_install.html\n",
      "  from .autonotebook import tqdm as notebook_tqdm\n"
     ]
    },
    {
     "data": {
      "text/plain": [
       "MNIST(\n",
       "  (sequence): Sequential(\n",
       "    (0): Linear(in_features=784, out_features=512, bias=True)\n",
       "    (1): LeakyReLU(negative_slope=0.01)\n",
       "    (2): Linear(in_features=512, out_features=256, bias=True)\n",
       "    (3): LeakyReLU(negative_slope=0.01)\n",
       "    (4): Linear(in_features=256, out_features=128, bias=True)\n",
       "    (5): LeakyReLU(negative_slope=0.01)\n",
       "    (6): Linear(in_features=128, out_features=64, bias=True)\n",
       "    (7): LeakyReLU(negative_slope=0.01)\n",
       "    (8): Linear(in_features=64, out_features=32, bias=True)\n",
       "    (9): LeakyReLU(negative_slope=0.01)\n",
       "    (10): Linear(in_features=32, out_features=10, bias=True)\n",
       "  )\n",
       ")"
      ]
     },
     "execution_count": 1,
     "metadata": {},
     "output_type": "execute_result"
    }
   ],
   "source": [
    "import torch\n",
    "import torchvision.models as models\n",
    "from torch import nn\n",
    "\n",
    "class MNIST(nn.Module):\n",
    "    def __init__(self) -> None:\n",
    "        super().__init__()\n",
    "        self.sequence = nn.Sequential(\n",
    "            nn.Linear(28*28, 512),\n",
    "            nn.LeakyReLU(),\n",
    "            nn.Linear(512, 256),\n",
    "            nn.LeakyReLU(),\n",
    "            nn.Linear(256, 128),\n",
    "            nn.LeakyReLU(),\n",
    "            nn.Linear(128, 64),\n",
    "            nn.LeakyReLU(),\n",
    "            nn.Linear(64, 32),\n",
    "            nn.LeakyReLU(),\n",
    "            nn.Linear(32, 10)\n",
    "        )\n",
    "\n",
    "    def forward(self, X: torch.Tensor) -> torch.Tensor:\n",
    "        return self.sequence(X)\n",
    "\n",
    "model = MNIST()\n",
    "chekpoint = torch.load('models/MNIST_9744.pth', map_location=torch.device('cpu'))\n",
    "model.load_state_dict(chekpoint)\n",
    "model"
   ]
  },
  {
   "cell_type": "code",
<<<<<<< HEAD
   "execution_count": 13,
=======
   "execution_count": 74,
>>>>>>> 9ba0b575e0807ff82e719aff78f8fac9404a658c
   "metadata": {},
   "outputs": [
    {
     "data": {
<<<<<<< HEAD
      "image/png": "iVBORw0KGgoAAAANSUhEUgAAABwAAAAcCAAAAABXZoBIAAAA3ElEQVR4nGNgGLKAE7eUwKTbyeI45BRP/////93RqVHY9K/6f7R316v////vFsGQE3nzVZmBQcg06fz/A3zokqb/j0EYYif+T0eXjPw/F8pSfffHEcJigkmyM7yFsm63MU/gQJX8j2BOvqJngyrJyPAfxvy5nsEKVfInA8KNR9Al7zFYc8DYd/5JMKJIXjqnnQNjCzP+RvOL499vOWIMDAwMDGrH//dA3QEHhT1Mry/d+M/AFix81fMxmlYGh02f/v//////v2nCDOg6GRgYpOQUGBgY7p1C1zZYAABuCkbVdWhREgAAAABJRU5ErkJggg==",
=======
      "image/png": "iVBORw0KGgoAAAANSUhEUgAAABwAAAAcCAAAAABXZoBIAAABIElEQVR4nL2QsS8DYRjGf5ojTTUikmukJRFhYiQRE4vJSGq3WvwDwsLCLrHZEJFYSQ2SbiKSRoIYSoSiepW0TWjzGNw1d727xeCZvvf9vV+e533hr2pzv3vj6K0cODd5/lGr1R52hgOYmdevnmf9cEkqZbMXDaky44MH0iJEpi6l8t6olxlXqg4CpPKSTgGIODDaTaUI8HQGtETuuFZ9LWEYA1tF6XGoxXNVUiGXK0nSZmugrmM1tY7Xk8/59EnRst73t713ayqRTCZISxv2Bh74ChBtlhF86odCKByHmyBPgJ4XlVJhcEHKBKalPT5yKy3blWtmYsUk1mnGuB+zfL+O7PM05pyOa8/MtEG9at3tHjodt3WfwXe18hWW9H/0A8rFfLNirr4sAAAAAElFTkSuQmCC",
>>>>>>> 9ba0b575e0807ff82e719aff78f8fac9404a658c
      "text/plain": [
       "<PIL.Image.Image image mode=L size=28x28>"
      ]
     },
     "metadata": {},
     "output_type": "display_data"
    },
    {
     "name": "stdout",
     "output_type": "stream",
     "text": [
<<<<<<< HEAD
      "0\n"
=======
      "3\n"
>>>>>>> 9ba0b575e0807ff82e719aff78f8fac9404a658c
     ]
    }
   ],
   "source": [
    "from PIL import Image\n",
    "from paint import Paint\n",
    "\n",
    "Paint()\n",
    "\n",
    "img = Image.open('desenho.png')\n",
    "width, height = img.size\n",
    "area = (2, 2, width - 10, height - 10)\n",
    "img = img.crop(area)\n",
    "img = img.resize((28, 28))\n",
    "img = img.convert('L')\n",
    "pixels = list(img.getdata())\n",
    "\n",
    "display(img)\n",
    "img = torch.tensor(pixels).type(torch.float)\n",
    "\n",
    "model.eval()\n",
    "with torch.inference_mode():\n",
    "    y_logits = model(img)\n",
    "    pred = torch.softmax(y_logits, dim=0).argmax()\n",
    "\n",
    "print(pred.item())"
   ]
  }
 ],
 "metadata": {
  "kernelspec": {
   "display_name": "Python 3",
   "language": "python",
   "name": "python3"
  },
  "language_info": {
   "codemirror_mode": {
    "name": "ipython",
    "version": 3
   },
   "file_extension": ".py",
   "mimetype": "text/x-python",
   "name": "python",
   "nbconvert_exporter": "python",
   "pygments_lexer": "ipython3",
   "version": "3.9.12"
  },
  "orig_nbformat": 4
 },
 "nbformat": 4,
 "nbformat_minor": 2
}
